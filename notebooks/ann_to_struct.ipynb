{
 "cells": [
  {
   "cell_type": "code",
   "execution_count": 27,
   "metadata": {},
   "outputs": [],
   "source": [
    "import json\n",
    "import pandas as pd\n",
    "import os\n",
    "import re\n",
    "from bisect import bisect_left"
   ]
  },
  {
   "cell_type": "code",
   "execution_count": 28,
   "metadata": {},
   "outputs": [],
   "source": [
    "# Paths\n",
    "\n",
    "pilot_docs = '/data/rsg/nlp/juanmoo1/projects/04_polymer/00_annotation/brat-v1.3_Crunchy_Frog/data/polymer/pilot_dylan/'"
   ]
  },
  {
   "cell_type": "code",
   "execution_count": 29,
   "metadata": {},
   "outputs": [],
   "source": [
    "def get_annotated_document_names(ann_path):\n",
    "    fnames = [e for e in os.listdir(ann_path) if e.lower().endswith(\".ann\") or e.lower().endswith(\".txt\")]\n",
    "    names = sorted(set([e.split('.')[0] for e in fnames]))\n",
    "    \n",
    "    names = [e for e in names if (f'{e}.txt' in fnames) and (f'{e}.ann' in fnames)]\n",
    "    names.sort()\n",
    "    \n",
    "    return names"
   ]
  },
  {
   "cell_type": "code",
   "execution_count": 30,
   "metadata": {},
   "outputs": [],
   "source": [
    "def parse_document_annotations(doc_name, ann_dir_path=pilot_docs):\n",
    "    \n",
    "    text_doc_path = os.path.join(ann_dir_path, f'{doc_name}.txt')\n",
    "    text = open(text_doc_path, 'r').read()\n",
    "    \n",
    "    ann_doc_path = os.path.join(ann_dir_path, f'{doc_name}.ann')\n",
    "    ann_lines = open(ann_doc_path, 'r').readlines()\n",
    "    \n",
    "    tokens = text.split()\n",
    "    tok_lens = [0] + list(map(len, tokens))\n",
    "    for j in range(1, len(tok_lens)):\n",
    "        tok_lens[j] += tok_lens[j - 1] + 1\n",
    "        \n",
    "    entities = []\n",
    "    links = []\n",
    "\n",
    "    \n",
    "    for line in ann_lines:\n",
    "        line = re.sub('\\s+', ' ', line).split()\n",
    "\n",
    "        ann_type = line[0]\n",
    "        ann_name = line[1]\n",
    "        \n",
    "        if ann_type.startswith('T'):\n",
    "            \n",
    "            chr_start, chr_stop = map(int, line[2:4])\n",
    "            ann_text = line[4]\n",
    "\n",
    "            tok_start = bisect_left(tok_lens, chr_start)\n",
    "            tok_stop = bisect_left(tok_lens, chr_stop)\n",
    "            \n",
    "            entities.append((ann_type, ann_name, tok_start, tok_stop))\n",
    "\n",
    "        elif ann_type.startswith('R'):\n",
    "            arg_1, arg_2 = map(lambda s: s.split(':')[1], line[2:4])\n",
    "            links.append((ann_type, ann_name, arg_1, arg_2))\n",
    "\n",
    "    \n",
    "    return {\n",
    "        \"text\": text,\n",
    "        \"spans\": entities,\n",
    "        \"links\": links\n",
    "    }"
   ]
  },
  {
   "cell_type": "code",
   "execution_count": 31,
   "metadata": {},
   "outputs": [],
   "source": [
    "document_names = get_annotated_document_names(pilot_docs)\n",
    "parsed_annotations = [parse_document_annotations(dname) for dname in document_names]"
   ]
  },
  {
   "cell_type": "code",
   "execution_count": 17,
   "metadata": {},
   "outputs": [
    {
     "ename": "FileNotFoundError",
     "evalue": "[Errno 2] No such file or directory: '../01_ner_bert/data/extractions.json'",
     "output_type": "error",
     "traceback": [
      "\u001b[0;31m---------------------------------------------------------------------------\u001b[0m",
      "\u001b[0;31mFileNotFoundError\u001b[0m                         Traceback (most recent call last)",
      "\u001b[0;32m<ipython-input-17-6959b95e87c5>\u001b[0m in \u001b[0;36m<module>\u001b[0;34m\u001b[0m\n\u001b[0;32m----> 1\u001b[0;31m \u001b[0;32mwith\u001b[0m \u001b[0mopen\u001b[0m\u001b[0;34m(\u001b[0m\u001b[0;34m\"../01_ner_bert/data/extractions.json\"\u001b[0m\u001b[0;34m,\u001b[0m \u001b[0;34m'w'\u001b[0m\u001b[0;34m)\u001b[0m \u001b[0;32mas\u001b[0m \u001b[0mf\u001b[0m\u001b[0;34m:\u001b[0m\u001b[0;34m\u001b[0m\u001b[0;34m\u001b[0m\u001b[0m\n\u001b[0m\u001b[1;32m      2\u001b[0m     \u001b[0mjson\u001b[0m\u001b[0;34m.\u001b[0m\u001b[0mdump\u001b[0m\u001b[0;34m(\u001b[0m\u001b[0mparsed_annotations\u001b[0m\u001b[0;34m,\u001b[0m \u001b[0mf\u001b[0m\u001b[0;34m,\u001b[0m \u001b[0mindent\u001b[0m\u001b[0;34m=\u001b[0m\u001b[0;36m4\u001b[0m\u001b[0;34m)\u001b[0m\u001b[0;34m\u001b[0m\u001b[0;34m\u001b[0m\u001b[0m\n",
      "\u001b[0;31mFileNotFoundError\u001b[0m: [Errno 2] No such file or directory: '../01_ner_bert/data/extractions.json'"
     ]
    }
   ],
   "source": [
    "with open(\"../data/extractions.json\", 'w') as f:\n",
    "    json.dump(parsed_annotations, f, indent=4)"
   ]
  },
  {
   "cell_type": "code",
   "execution_count": 25,
   "metadata": {},
   "outputs": [
    {
     "data": {
      "text/plain": [
       "[]"
      ]
     },
     "execution_count": 25,
     "metadata": {},
     "output_type": "execute_result"
    }
   ],
   "source": [
    "os.listdir('../data')"
   ]
  },
  {
   "cell_type": "code",
   "execution_count": null,
   "metadata": {},
   "outputs": [],
   "source": []
  }
 ],
 "metadata": {
  "kernelspec": {
   "display_name": "cuda11",
   "language": "python",
   "name": "cuda11"
  },
  "language_info": {
   "codemirror_mode": {
    "name": "ipython",
    "version": 3
   },
   "file_extension": ".py",
   "mimetype": "text/x-python",
   "name": "python",
   "nbconvert_exporter": "python",
   "pygments_lexer": "ipython3",
   "version": "3.8.8"
  }
 },
 "nbformat": 4,
 "nbformat_minor": 4
}
